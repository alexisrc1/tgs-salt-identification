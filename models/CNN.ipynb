{
 "cells": [
  {
   "cell_type": "markdown",
   "metadata": {
    "collapsed": true
   },
   "source": [
    "# CNN"
   ]
  },
  {
   "cell_type": "code",
   "execution_count": 1,
   "metadata": {
    "ExecuteTime": {
     "end_time": "2018-07-26T13:25:50.851505Z",
     "start_time": "2018-07-26T13:25:50.719630Z"
    }
   },
   "outputs": [
    {
     "name": "stderr",
     "output_type": "stream",
     "text": [
      "Using TensorFlow backend.\n"
     ]
    }
   ],
   "source": [
    "from keras.models import Model, load_model\n",
    "from keras.layers import Input\n",
    "from keras.layers.core import Lambda\n",
    "from keras.layers.convolutional import Conv2D, Conv2DTranspose\n",
    "from keras.layers.pooling import MaxPooling2D\n",
    "from keras.layers.merge import concatenate\n",
    "from keras.callbacks import EarlyStopping, ModelCheckpoint\n",
    "from keras import backend as K"
   ]
  },
  {
   "cell_type": "code",
   "execution_count": 58,
   "metadata": {
    "ExecuteTime": {
     "end_time": "2018-07-26T13:15:46.766036Z",
     "start_time": "2018-07-26T13:15:44.560753Z"
    }
   },
   "outputs": [],
   "source": [
    "import os\n",
    "import sys\n",
    "import random\n",
    "import warnings\n",
    "import imageio\n",
    "import numpy as np\n",
    "import pandas as pd\n",
    "import tensorflow as tf\n",
    "import torch\n",
    "\n",
    "from torch.utils import data\n",
    "from skimage.transform import resize\n",
    "from matplotlib import pyplot as plt\n",
    "%matplotlib inline\n",
    "\n",
    "warnings.filterwarnings('ignore', category=UserWarning, module='skimage')\n",
    "seed = 42\n",
    "random.seed = seed\n",
    "np.random.seed = seed"
   ]
  },
  {
   "cell_type": "code",
   "execution_count": 16,
   "metadata": {
    "collapsed": true
   },
   "outputs": [],
   "source": [
    "class TGSSaltDataset(data.Dataset):\n",
    "    \n",
    "    def __init__(self, root_path, file_list):\n",
    "        self.root_path = root_path\n",
    "        self.file_list = file_list\n",
    "    \n",
    "    def __len__(self):\n",
    "        return len(self.file_list)\n",
    "    \n",
    "    def __getitem__(self, index):\n",
    "        if index not in range(0, len(self.file_list)):\n",
    "            return self.__getitem__(np.random.randint(0, self.__len__()))\n",
    "        \n",
    "        file_id = self.file_list[index]\n",
    "        \n",
    "        image_folder = os.path.join(self.root_path, \"images\")\n",
    "        image_path = os.path.join(image_folder, file_id + \".png\")\n",
    "        \n",
    "        mask_folder = os.path.join(self.root_path, \"masks\")\n",
    "        mask_path = os.path.join(mask_folder, file_id + \".png\")\n",
    "        \n",
    "        image = np.array(imageio.imread(image_path), dtype=np.uint8)\n",
    "        mask = np.array(imageio.imread(mask_path), dtype=np.uint8)\n",
    "        \n",
    "        return image, mask"
   ]
  },
  {
   "cell_type": "code",
   "execution_count": 17,
   "metadata": {},
   "outputs": [],
   "source": [
    "train_mask = pd.read_csv('../../tgs_data/train.csv')\n",
    "train_path = \"../../tgs_data/train/\"\n",
    "\n",
    "file_list = list(train_mask['id'].values)\n",
    "dataset = TGSSaltDataset(train_path, file_list)"
   ]
  },
  {
   "cell_type": "code",
   "execution_count": 59,
   "metadata": {},
   "outputs": [],
   "source": [
    "X_train = np.zeros((len(file_list), 128, 128, 1), dtype=np.uint8)\n",
    "Y_train = np.zeros((len(file_list), 128, 128, 1), dtype=np.bool)\n",
    "\n",
    "for n in range(len(file_list)):\n",
    "    image, mask = dataset.__getitem__(n)\n",
    "    X_train[n] = resize(image[:, :, 1], (128, 128, 1), mode='constant', preserve_range=True)\n",
    "    Y_train[n] = resize(mask, (128, 128, 1), mode='constant', preserve_range=True)\n",
    "\n",
    "#image, mask = dataset.__getitem__(1)"
   ]
  },
  {
   "cell_type": "code",
   "execution_count": 60,
   "metadata": {
    "ExecuteTime": {
     "end_time": "2018-07-26T14:06:11.709273Z",
     "start_time": "2018-07-26T14:06:11.539978Z"
    }
   },
   "outputs": [
    {
     "data": {
      "image/png": "[encoded data removed]",
      "text/plain": [
       "<matplotlib.figure.Figure at 0x13029c978>"
      ]
     },
     "metadata": {},
     "output_type": "display_data"
    }
   ],
   "source": [
    "# Check if training data looks all right\n",
    "ix=3\n",
    "\n",
    "tmp = np.squeeze(Y_train[ix]).astype(np.float32)\n",
    "plt.imshow(np.dstack((tmp,tmp,tmp)))\n",
    "plt.show()"
   ]
  },
  {
   "cell_type": "code",
   "execution_count": 52,
   "metadata": {
    "ExecuteTime": {
     "end_time": "2018-07-26T13:26:03.148387Z",
     "start_time": "2018-07-26T13:26:03.110066Z"
    },
    "collapsed": true
   },
   "outputs": [],
   "source": [
    "# Define IoU metric\n",
    "def mean_iou(y_true, y_pred):\n",
    "    prec = []\n",
    "    \n",
    "    for t in np.arange(0.5, 1.0, 0.05):\n",
    "        y_pred_ = tf.to_int32(y_pred > t)\n",
    "        score, up_opt = tf.metrics.mean_iou(y_true, y_pred_, 2)\n",
    "        K.get_session().run(tf.local_variables_initializer())\n",
    "        \n",
    "        with tf.control_dependencies([up_opt]):\n",
    "            score = tf.identity(score)\n",
    "        prec.append(score)\n",
    "    \n",
    "    return K.mean(K.stack(prec), axis=0)"
   ]
  },
  {
   "cell_type": "code",
   "execution_count": 63,
   "metadata": {
    "ExecuteTime": {
     "end_time": "2018-07-26T13:26:05.950577Z",
     "start_time": "2018-07-26T13:26:03.511026Z"
    }
   },
   "outputs": [
    {
     "name": "stdout",
     "output_type": "stream",
     "text": [
      "____________________________________________________________________________________________________\n",
      "Layer (type)                     Output Shape          Param #     Connected to                     \n",
      "====================================================================================================\n",
      "input_8 (InputLayer)             (None, 128, 128, 1)   0                                            \n",
      "____________________________________________________________________________________________________\n",
      "lambda_8 (Lambda)                (None, 128, 128, 1)   0           input_8[0][0]                    \n",
      "____________________________________________________________________________________________________\n",
      "conv2d_88 (Conv2D)               (None, 128, 128, 8)   80          lambda_8[0][0]                   \n",
      "____________________________________________________________________________________________________\n",
      "conv2d_89 (Conv2D)               (None, 128, 128, 8)   584         conv2d_88[0][0]                  \n",
      "____________________________________________________________________________________________________\n",
      "max_pooling2d_29 (MaxPooling2D)  (None, 64, 64, 8)     0           conv2d_89[0][0]                  \n",
      "____________________________________________________________________________________________________\n",
      "conv2d_90 (Conv2D)               (None, 64, 64, 16)    1168        max_pooling2d_29[0][0]           \n",
      "____________________________________________________________________________________________________\n",
      "conv2d_91 (Conv2D)               (None, 64, 64, 16)    2320        conv2d_90[0][0]                  \n",
      "____________________________________________________________________________________________________\n",
      "max_pooling2d_30 (MaxPooling2D)  (None, 32, 32, 16)    0           conv2d_91[0][0]                  \n",
      "____________________________________________________________________________________________________\n",
      "conv2d_92 (Conv2D)               (None, 32, 32, 32)    4640        max_pooling2d_30[0][0]           \n",
      "____________________________________________________________________________________________________\n",
      "conv2d_93 (Conv2D)               (None, 32, 32, 32)    9248        conv2d_92[0][0]                  \n",
      "____________________________________________________________________________________________________\n",
      "max_pooling2d_31 (MaxPooling2D)  (None, 16, 16, 32)    0           conv2d_93[0][0]                  \n",
      "____________________________________________________________________________________________________\n",
      "conv2d_94 (Conv2D)               (None, 16, 16, 64)    18496       max_pooling2d_31[0][0]           \n",
      "____________________________________________________________________________________________________\n",
      "conv2d_95 (Conv2D)               (None, 16, 16, 64)    36928       conv2d_94[0][0]                  \n",
      "____________________________________________________________________________________________________\n",
      "max_pooling2d_32 (MaxPooling2D)  (None, 8, 8, 64)      0           conv2d_95[0][0]                  \n",
      "____________________________________________________________________________________________________\n",
      "conv2d_96 (Conv2D)               (None, 8, 8, 128)     73856       max_pooling2d_32[0][0]           \n",
      "____________________________________________________________________________________________________\n",
      "conv2d_97 (Conv2D)               (None, 8, 8, 128)     147584      conv2d_96[0][0]                  \n",
      "____________________________________________________________________________________________________\n",
      "conv2d_transpose_15 (Conv2DTrans (None, 16, 16, 64)    32832       conv2d_97[0][0]                  \n",
      "____________________________________________________________________________________________________\n",
      "concatenate_15 (Concatenate)     (None, 16, 16, 128)   0           conv2d_transpose_15[0][0]        \n",
      "                                                                   conv2d_95[0][0]                  \n",
      "____________________________________________________________________________________________________\n",
      "conv2d_98 (Conv2D)               (None, 16, 16, 64)    73792       concatenate_15[0][0]             \n",
      "____________________________________________________________________________________________________\n",
      "conv2d_99 (Conv2D)               (None, 16, 16, 64)    36928       conv2d_98[0][0]                  \n",
      "____________________________________________________________________________________________________\n",
      "conv2d_transpose_16 (Conv2DTrans (None, 32, 32, 32)    8224        conv2d_99[0][0]                  \n",
      "____________________________________________________________________________________________________\n",
      "concatenate_16 (Concatenate)     (None, 32, 32, 64)    0           conv2d_transpose_16[0][0]        \n",
      "                                                                   conv2d_93[0][0]                  \n",
      "____________________________________________________________________________________________________\n",
      "conv2d_100 (Conv2D)              (None, 32, 32, 32)    18464       concatenate_16[0][0]             \n",
      "____________________________________________________________________________________________________\n",
      "conv2d_101 (Conv2D)              (None, 32, 32, 32)    9248        conv2d_100[0][0]                 \n",
      "____________________________________________________________________________________________________\n",
      "conv2d_transpose_17 (Conv2DTrans (None, 64, 64, 16)    2064        conv2d_101[0][0]                 \n",
      "____________________________________________________________________________________________________\n",
      "concatenate_17 (Concatenate)     (None, 64, 64, 32)    0           conv2d_transpose_17[0][0]        \n",
      "                                                                   conv2d_91[0][0]                  \n",
      "____________________________________________________________________________________________________\n",
      "conv2d_102 (Conv2D)              (None, 64, 64, 16)    4624        concatenate_17[0][0]             \n",
      "____________________________________________________________________________________________________\n",
      "conv2d_103 (Conv2D)              (None, 64, 64, 16)    2320        conv2d_102[0][0]                 \n",
      "____________________________________________________________________________________________________\n",
      "conv2d_transpose_18 (Conv2DTrans (None, 128, 128, 8)   520         conv2d_103[0][0]                 \n",
      "____________________________________________________________________________________________________\n",
      "concatenate_18 (Concatenate)     (None, 128, 128, 16)  0           conv2d_transpose_18[0][0]        \n",
      "                                                                   conv2d_89[0][0]                  \n",
      "____________________________________________________________________________________________________\n",
      "conv2d_104 (Conv2D)              (None, 128, 128, 8)   1160        concatenate_18[0][0]             \n",
      "____________________________________________________________________________________________________\n",
      "conv2d_105 (Conv2D)              (None, 128, 128, 8)   584         conv2d_104[0][0]                 \n",
      "____________________________________________________________________________________________________\n",
      "conv2d_106 (Conv2D)              (None, 128, 128, 1)   9           conv2d_105[0][0]                 \n",
      "====================================================================================================\n",
      "Total params: 485,673\n",
      "Trainable params: 485,673\n",
      "Non-trainable params: 0\n",
      "____________________________________________________________________________________________________\n"
     ]
    }
   ],
   "source": [
    "# Build U-Net model\n",
    "inputs = Input((128, 128, 1))\n",
    "s = Lambda(lambda x: x / 255) (inputs)\n",
    "\n",
    "c1 = Conv2D(8, (3, 3), activation='relu', padding='same') (s)\n",
    "c1 = Conv2D(8, (3, 3), activation='relu', padding='same') (c1)\n",
    "p1 = MaxPooling2D((2, 2)) (c1)\n",
    "\n",
    "c2 = Conv2D(16, (3, 3), activation='relu', padding='same') (p1)\n",
    "c2 = Conv2D(16, (3, 3), activation='relu', padding='same') (c2)\n",
    "p2 = MaxPooling2D((2, 2)) (c2)\n",
    "\n",
    "c3 = Conv2D(32, (3, 3), activation='relu', padding='same') (p2)\n",
    "c3 = Conv2D(32, (3, 3), activation='relu', padding='same') (c3)\n",
    "p3 = MaxPooling2D((2, 2)) (c3)\n",
    "\n",
    "c4 = Conv2D(64, (3, 3), activation='relu', padding='same') (p3)\n",
    "c4 = Conv2D(64, (3, 3), activation='relu', padding='same') (c4)\n",
    "p4 = MaxPooling2D(pool_size=(2, 2)) (c4)\n",
    "\n",
    "c5 = Conv2D(128, (3, 3), activation='relu', padding='same') (p4)\n",
    "c5 = Conv2D(128, (3, 3), activation='relu', padding='same') (c5)\n",
    "\n",
    "u6 = Conv2DTranspose(64, (2, 2), strides=(2, 2), padding='same') (c5)\n",
    "u6 = concatenate([u6, c4])\n",
    "c6 = Conv2D(64, (3, 3), activation='relu', padding='same') (u6)\n",
    "c6 = Conv2D(64, (3, 3), activation='relu', padding='same') (c6)\n",
    "\n",
    "u7 = Conv2DTranspose(32, (2, 2), strides=(2, 2), padding='same') (c6)\n",
    "u7 = concatenate([u7, c3])\n",
    "c7 = Conv2D(32, (3, 3), activation='relu', padding='same') (u7)\n",
    "c7 = Conv2D(32, (3, 3), activation='relu', padding='same') (c7)\n",
    "\n",
    "u8 = Conv2DTranspose(16, (2, 2), strides=(2, 2), padding='same') (c7)\n",
    "u8 = concatenate([u8, c2])\n",
    "c8 = Conv2D(16, (3, 3), activation='relu', padding='same') (u8)\n",
    "c8 = Conv2D(16, (3, 3), activation='relu', padding='same') (c8)\n",
    "\n",
    "u9 = Conv2DTranspose(8, (2, 2), strides=(2, 2), padding='same') (c8)\n",
    "u9 = concatenate([u9, c1], axis=3)\n",
    "c9 = Conv2D(8, (3, 3), activation='relu', padding='same') (u9)\n",
    "c9 = Conv2D(8, (3, 3), activation='relu', padding='same') (c9)\n",
    "\n",
    "outputs = Conv2D(1, (1, 1), activation='sigmoid') (c9)\n",
    "\n",
    "model = Model(inputs=[inputs], outputs=[outputs])\n",
    "model.compile(optimizer='adam', loss='binary_crossentropy', metrics=[mean_iou])\n",
    "model.summary()"
   ]
  },
  {
   "cell_type": "code",
   "execution_count": 66,
   "metadata": {
    "ExecuteTime": {
     "end_time": "2018-07-26T13:54:22.377493Z",
     "start_time": "2018-07-26T13:45:16.853703Z"
    }
   },
   "outputs": [
    {
     "name": "stdout",
     "output_type": "stream",
     "text": [
      "Train on 3600 samples, validate on 400 samples\n",
      "Epoch 1/10\n",
      "3600/3600 [==============================] - 254s - loss: 0.4988 - mean_iou: 0.3872 - val_loss: 0.4224 - val_mean_iou: 0.3896\n",
      "Epoch 2/10\n",
      "3600/3600 [==============================] - 280s - loss: 0.4041 - mean_iou: 0.4056 - val_loss: 0.3964 - val_mean_iou: 0.4282\n",
      "Epoch 3/10\n",
      "3600/3600 [==============================] - 285s - loss: 0.3699 - mean_iou: 0.4440 - val_loss: 0.3605 - val_mean_iou: 0.4604\n",
      "Epoch 4/10\n",
      "3600/3600 [==============================] - 300s - loss: 0.3485 - mean_iou: 0.4747 - val_loss: 0.3289 - val_mean_iou: 0.4861\n",
      "Epoch 5/10\n",
      "3600/3600 [==============================] - 295s - loss: 0.3317 - mean_iou: 0.4972 - val_loss: 0.3133 - val_mean_iou: 0.5074\n",
      "Epoch 6/10\n",
      "3600/3600 [==============================] - 301s - loss: 0.3175 - mean_iou: 0.5173 - val_loss: 0.2842 - val_mean_iou: 0.5269\n",
      "Epoch 7/10\n",
      "3600/3600 [==============================] - 300s - loss: 0.3019 - mean_iou: 0.5365 - val_loss: 0.2773 - val_mean_iou: 0.5446\n",
      "Epoch 8/10\n",
      "3600/3600 [==============================] - 297s - loss: 0.2942 - mean_iou: 0.5523 - val_loss: 0.2696 - val_mean_iou: 0.5595\n",
      "Epoch 9/10\n",
      "3600/3600 [==============================] - 290s - loss: 0.2668 - mean_iou: 0.5676 - val_loss: 0.2489 - val_mean_iou: 0.5752\n",
      "Epoch 10/10\n",
      "3600/3600 [==============================] - 272s - loss: 0.2610 - mean_iou: 0.5821 - val_loss: 0.2402 - val_mean_iou: 0.5879\n"
     ]
    }
   ],
   "source": [
    "earlystopper = EarlyStopping(patience=5, verbose=1)\n",
    "checkpointer = ModelCheckpoint('model-tgs-salt-1.h5', verbose=0, save_best_only=True)\n",
    "results = model.fit(X_train, Y_train, validation_split=0.1, batch_size=8, epochs=10, \n",
    "                    callbacks=[earlystopper, checkpointer])"
   ]
  },
  {
   "cell_type": "code",
   "execution_count": null,
   "metadata": {
    "collapsed": true
   },
   "outputs": [],
   "source": []
  }
 ],
 "metadata": {
  "kernelspec": {
   "display_name": "Python 3",
   "language": "python",
   "name": "python3"
  },
  "language_info": {
   "codemirror_mode": {
    "name": "ipython",
    "version": 3
   },
   "file_extension": ".py",
   "mimetype": "text/x-python",
   "name": "python",
   "nbconvert_exporter": "python",
   "pygments_lexer": "ipython3",
   "version": "3.6.2"
  },
  "toc": {
   "base_numbering": 1,
   "nav_menu": {},
   "number_sections": true,
   "sideBar": true,
   "skip_h1_title": false,
   "title_cell": "Table of Contents",
   "title_sidebar": "Contents",
   "toc_cell": false,
   "toc_position": {},
   "toc_section_display": true,
   "toc_window_display": false
  }
 },
 "nbformat": 4,
 "nbformat_minor": 2
}
